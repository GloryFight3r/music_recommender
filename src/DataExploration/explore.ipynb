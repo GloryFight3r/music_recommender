{
 "cells": [
  {
   "cell_type": "code",
   "execution_count": 2,
   "metadata": {},
   "outputs": [],
   "source": [
    "import numpy as np\n",
    "from sklearn.preprocessing import StandardScaler\n",
    "import pandas as pd\n",
    "import seaborn as sns"
   ]
  },
  {
   "cell_type": "code",
   "execution_count": 3,
   "metadata": {},
   "outputs": [],
   "source": [
    "sns.set_theme(style='white', context='notebook', rc={'figure.figsize':(14,10)})"
   ]
  },
  {
   "cell_type": "code",
   "execution_count": 16,
   "metadata": {},
   "outputs": [
    {
     "data": {
      "text/html": [
       "<div>\n",
       "<style scoped>\n",
       "    .dataframe tbody tr th:only-of-type {\n",
       "        vertical-align: middle;\n",
       "    }\n",
       "\n",
       "    .dataframe tbody tr th {\n",
       "        vertical-align: top;\n",
       "    }\n",
       "\n",
       "    .dataframe thead th {\n",
       "        text-align: right;\n",
       "    }\n",
       "</style>\n",
       "<table border=\"1\" class=\"dataframe\">\n",
       "  <thead>\n",
       "    <tr style=\"text-align: right;\">\n",
       "      <th></th>\n",
       "      <th>track_id</th>\n",
       "      <th>spotify_uri</th>\n",
       "      <th>danceability</th>\n",
       "      <th>energy</th>\n",
       "      <th>instrumentalness</th>\n",
       "      <th>acousticness</th>\n",
       "      <th>tempo</th>\n",
       "      <th>valence</th>\n",
       "      <th>key</th>\n",
       "      <th>liveness</th>\n",
       "      <th>loudness</th>\n",
       "      <th>mode</th>\n",
       "      <th>speechiness</th>\n",
       "      <th>time_signature</th>\n",
       "    </tr>\n",
       "  </thead>\n",
       "  <tbody>\n",
       "    <tr>\n",
       "      <th>0</th>\n",
       "      <td>47511869</td>\n",
       "      <td>4wCmqSrbyCgxEXROQE6vtV</td>\n",
       "      <td>0.864</td>\n",
       "      <td>0.495</td>\n",
       "      <td>0.000133</td>\n",
       "      <td>0.5910</td>\n",
       "      <td>129.062</td>\n",
       "      <td>0.720</td>\n",
       "      <td>0</td>\n",
       "      <td>0.0992</td>\n",
       "      <td>-7.036</td>\n",
       "      <td>1</td>\n",
       "      <td>0.0370</td>\n",
       "      <td>4</td>\n",
       "    </tr>\n",
       "    <tr>\n",
       "      <th>1</th>\n",
       "      <td>32496162</td>\n",
       "      <td>4G8gkOterJn0Ywt6uhqbhp</td>\n",
       "      <td>0.448</td>\n",
       "      <td>0.784</td>\n",
       "      <td>0.000108</td>\n",
       "      <td>0.0999</td>\n",
       "      <td>136.239</td>\n",
       "      <td>0.237</td>\n",
       "      <td>9</td>\n",
       "      <td>0.6680</td>\n",
       "      <td>-3.686</td>\n",
       "      <td>1</td>\n",
       "      <td>0.0625</td>\n",
       "      <td>4</td>\n",
       "    </tr>\n",
       "    <tr>\n",
       "      <th>2</th>\n",
       "      <td>33614747</td>\n",
       "      <td>1c8gk2PeTE04A1pIDH9YMk</td>\n",
       "      <td>0.730</td>\n",
       "      <td>0.769</td>\n",
       "      <td>0.000000</td>\n",
       "      <td>0.1380</td>\n",
       "      <td>104.948</td>\n",
       "      <td>0.507</td>\n",
       "      <td>8</td>\n",
       "      <td>0.0473</td>\n",
       "      <td>-5.114</td>\n",
       "      <td>1</td>\n",
       "      <td>0.0298</td>\n",
       "      <td>4</td>\n",
       "    </tr>\n",
       "    <tr>\n",
       "      <th>3</th>\n",
       "      <td>32083560</td>\n",
       "      <td>7w87IxuO7BDcJ3YUqCyMTT</td>\n",
       "      <td>0.733</td>\n",
       "      <td>0.710</td>\n",
       "      <td>0.115000</td>\n",
       "      <td>0.1450</td>\n",
       "      <td>127.975</td>\n",
       "      <td>0.965</td>\n",
       "      <td>5</td>\n",
       "      <td>0.0956</td>\n",
       "      <td>-5.849</td>\n",
       "      <td>0</td>\n",
       "      <td>0.0292</td>\n",
       "      <td>4</td>\n",
       "    </tr>\n",
       "    <tr>\n",
       "      <th>4</th>\n",
       "      <td>45222862</td>\n",
       "      <td>6mFkJmJqdDVQ1REhVfGgd1</td>\n",
       "      <td>0.481</td>\n",
       "      <td>0.262</td>\n",
       "      <td>0.011400</td>\n",
       "      <td>0.7350</td>\n",
       "      <td>122.861</td>\n",
       "      <td>0.375</td>\n",
       "      <td>7</td>\n",
       "      <td>0.8320</td>\n",
       "      <td>-15.730</td>\n",
       "      <td>1</td>\n",
       "      <td>0.0414</td>\n",
       "      <td>4</td>\n",
       "    </tr>\n",
       "  </tbody>\n",
       "</table>\n",
       "</div>"
      ],
      "text/plain": [
       "   track_id             spotify_uri  danceability  energy  instrumentalness  \\\n",
       "0  47511869  4wCmqSrbyCgxEXROQE6vtV         0.864   0.495          0.000133   \n",
       "1  32496162  4G8gkOterJn0Ywt6uhqbhp         0.448   0.784          0.000108   \n",
       "2  33614747  1c8gk2PeTE04A1pIDH9YMk         0.730   0.769          0.000000   \n",
       "3  32083560  7w87IxuO7BDcJ3YUqCyMTT         0.733   0.710          0.115000   \n",
       "4  45222862  6mFkJmJqdDVQ1REhVfGgd1         0.481   0.262          0.011400   \n",
       "\n",
       "   acousticness    tempo  valence  key  liveness  loudness  mode  speechiness  \\\n",
       "0        0.5910  129.062    0.720    0    0.0992    -7.036     1       0.0370   \n",
       "1        0.0999  136.239    0.237    9    0.6680    -3.686     1       0.0625   \n",
       "2        0.1380  104.948    0.507    8    0.0473    -5.114     1       0.0298   \n",
       "3        0.1450  127.975    0.965    5    0.0956    -5.849     0       0.0292   \n",
       "4        0.7350  122.861    0.375    7    0.8320   -15.730     1       0.0414   \n",
       "\n",
       "   time_signature  \n",
       "0               4  \n",
       "1               4  \n",
       "2               4  \n",
       "3               4  \n",
       "4               4  "
      ]
     },
     "execution_count": 16,
     "metadata": {},
     "output_type": "execute_result"
    }
   ],
   "source": [
    "# load dataset\n",
    "spotify_df = pd.read_csv(\"/Users/str1ct0wn3r/Documents/RP/data/Processed_data/Spotify_Subset/track_features_with_track_id.csv\")\n",
    "\n",
    "spotify_df = spotify_df[spotify_df['danceability'] != -1]\n",
    "\n",
    "spotify_df.head()"
   ]
  },
  {
   "cell_type": "code",
   "execution_count": 17,
   "metadata": {},
   "outputs": [
    {
     "name": "stdout",
     "output_type": "stream",
     "text": [
      "844339\n"
     ]
    }
   ],
   "source": [
    "# get only children songs\n",
    "\n",
    "children_songs_only = pd.read_csv(\"/Users/str1ct0wn3r/Documents/RP/data/Filtered_Data/left_songs.csv\")\n",
    "\n",
    "to_keep = set()\n",
    "\n",
    "for x in children_songs_only['track_id']:\n",
    "    to_keep.add(x)\n",
    "\n",
    "spotify_df = spotify_df[spotify_df['track_id'].isin(to_keep)]\n",
    "\n",
    "print(len(spotify_df))"
   ]
  },
  {
   "cell_type": "code",
   "execution_count": 18,
   "metadata": {},
   "outputs": [
    {
     "name": "stderr",
     "output_type": "stream",
     "text": [
      "/Users/str1ct0wn3r/Documents/RP/venv/lib/python3.10/site-packages/tqdm/auto.py:21: TqdmWarning: IProgress not found. Please update jupyter and ipywidgets. See https://ipywidgets.readthedocs.io/en/stable/user_install.html\n",
      "  from .autonotebook import tqdm as notebook_tqdm\n"
     ]
    }
   ],
   "source": [
    "import umap\n",
    "\n",
    "reducer = umap.UMAP()"
   ]
  },
  {
   "cell_type": "code",
   "execution_count": 19,
   "metadata": {},
   "outputs": [],
   "source": [
    "# scale feature\n",
    "music_data = spotify_df[[\"danceability\", \"energy\", \"instrumentalness\", \"acousticness\", \"tempo\", \"valence\"]].values\n",
    "scaled_music_data = StandardScaler().fit_transform(music_data)"
   ]
  },
  {
   "cell_type": "code",
   "execution_count": 20,
   "metadata": {},
   "outputs": [
    {
     "data": {
      "text/plain": [
       "(844339, 2)"
      ]
     },
     "execution_count": 20,
     "metadata": {},
     "output_type": "execute_result"
    }
   ],
   "source": [
    "embedding = reducer.fit_transform(scaled_music_data)\n",
    "embedding.shape"
   ]
  },
  {
   "cell_type": "code",
   "execution_count": 23,
   "metadata": {},
   "outputs": [
    {
     "name": "stdout",
     "output_type": "stream",
     "text": [
      "[[16.676836   7.8088374]\n",
      " [ 7.4739857 12.616061 ]\n",
      " [16.633657  12.8227415]\n",
      " ...\n",
      " [13.868659  15.640669 ]\n",
      " [16.196331   8.140945 ]\n",
      " [ 5.7251616 12.362089 ]]\n"
     ]
    }
   ],
   "source": [
    "print(embedding)"
   ]
  },
  {
   "cell_type": "code",
   "execution_count": 24,
   "metadata": {},
   "outputs": [
    {
     "data": {
      "text/plain": [
       "<matplotlib.collections.PathCollection at 0x3777c2950>"
      ]
     },
     "execution_count": 24,
     "metadata": {},
     "output_type": "execute_result"
    },
    {
     "data": {
      "image/png": "[encoded data removed]",
      "text/plain": [
       "<Figure size 1400x1000 with 1 Axes>"
      ]
     },
     "metadata": {},
     "output_type": "display_data"
    }
   ],
   "source": [
    "import matplotlib.pyplot as plt\n",
    "\n",
    "plt.scatter(\n",
    "    embedding[:, 0],\n",
    "    embedding[:, 1]\n",
    "    )"
   ]
  }
 ],
 "metadata": {
  "kernelspec": {
   "display_name": "venv",
   "language": "python",
   "name": "python3"
  },
  "language_info": {
   "codemirror_mode": {
    "name": "ipython",
    "version": 3
   },
   "file_extension": ".py",
   "mimetype": "text/x-python",
   "name": "python",
   "nbconvert_exporter": "python",
   "pygments_lexer": "ipython3",
   "version": "3.10.14"
  }
 },
 "nbformat": 4,
 "nbformat_minor": 2
}
