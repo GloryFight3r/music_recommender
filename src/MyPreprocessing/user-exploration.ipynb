{
 "cells": [
  {
   "cell_type": "code",
   "execution_count": 4,
   "metadata": {},
   "outputs": [],
   "source": [
    "import numpy as np\n",
    "import pandas as pd"
   ]
  },
  {
   "cell_type": "code",
   "execution_count": 11,
   "metadata": {},
   "outputs": [
    {
     "name": "stdout",
     "output_type": "stream",
     "text": [
      "             0 Unnamed: 1  -1  n  2012-03-02 08:50:32\n",
      "0            1         RU  27  m  2007-03-27 19:50:20\n",
      "1            2         IT  33  m  2006-06-18 21:07:33\n",
      "2            3        NaN  -1  n  2008-09-22 17:42:43\n",
      "3            4        NaN  -1  m  2007-03-02 13:46:35\n",
      "4            5         DE  30  m  2006-11-01 18:26:18\n",
      "...        ...        ...  .. ..                  ...\n",
      "120316  120317        NaN  -1  n  2010-08-17 21:36:08\n",
      "120317  120318        NaN  -1  n  2011-12-08 17:41:25\n",
      "120318  120319        NaN  -1  n  2012-03-18 14:51:44\n",
      "120319  120320         US  -1  m  2009-04-19 15:42:45\n",
      "120320  120321        NaN  -1  n  2012-05-23 23:15:43\n",
      "\n",
      "[120321 rows x 5 columns]\n"
     ]
    }
   ],
   "source": [
    "user_data = pd.read_csv(\"../../data/user-data/users.tsv.bz2\", delimiter=\"\\t\")\n",
    "user_demo = pd.read_csv(\"../../data/user-data/user_demographics.tsv\", delimiter=\"\\t\")\n",
    "#tags = pd.read_csv(\"../../data/user-data/tags.json.bz2\", delimiter=\"\\t\")\n",
    "\n",
    "print(user_demo)"
   ]
  }
 ],
 "metadata": {
  "kernelspec": {
   "display_name": "venv",
   "language": "python",
   "name": "python3"
  },
  "language_info": {
   "codemirror_mode": {
    "name": "ipython",
    "version": 3
   },
   "file_extension": ".py",
   "mimetype": "text/x-python",
   "name": "python",
   "nbconvert_exporter": "python",
   "pygments_lexer": "ipython3",
   "version": "3.10.14"
  }
 },
 "nbformat": 4,
 "nbformat_minor": 2
}
