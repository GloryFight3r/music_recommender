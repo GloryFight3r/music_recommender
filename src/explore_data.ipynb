{
 "cells": [
  {
   "cell_type": "code",
   "execution_count": 3,
   "metadata": {},
   "outputs": [],
   "source": [
    "import pandas as pd\n",
    "import numpy as np\n",
    "from get_preprocessed_files import load_subsets"
   ]
  },
  {
   "cell_type": "code",
   "execution_count": 4,
   "metadata": {},
   "outputs": [],
   "source": [
    "data = pd.read_csv('./data/raw/listening-counts.tsv.bz2')"
   ]
  },
  {
   "cell_type": "code",
   "execution_count": 4,
   "metadata": {},
   "outputs": [],
   "source": [
    "data2 = pd.read_csv('../data/spotify-uris.tsv')"
   ]
  },
  {
   "cell_type": "code",
   "execution_count": 31,
   "metadata": {},
   "outputs": [],
   "source": [
    "user_index, track_index, u_t_matrix = load_subsets()"
   ]
  },
  {
   "cell_type": "code",
   "execution_count": 42,
   "metadata": {},
   "outputs": [],
   "source": [
    "user_data = pd.read_csv(\"../data/user-data/users.tsv.bz2\", delimiter=\"\\t\")\n",
    "user_demo = pd.read_csv(\"../data/user-data/user_demographics.tsv\", delimiter=\"\\t\")\n",
    "spotify_uris = pd.read_csv(\"../data/raw/spotify-uris.tsv\", delimiter=\"\\t\")\n"
   ]
  },
  {
   "cell_type": "code",
   "execution_count": 40,
   "metadata": {},
   "outputs": [
    {
     "name": "stdout",
     "output_type": "stream",
     "text": [
      "117337 3350\n"
     ]
    }
   ],
   "source": [
    "# filter the subsets by age\n",
    "\n",
    "AGE_LOWER = 6\n",
    "AGE_UPPER = 17\n",
    "user_id_age = {}\n",
    "\n",
    "for x in user_data.to_numpy():\n",
    "    user_id_age[x[0]] = x[2]\n",
    "\n",
    "filtered_user_index = {}\n",
    "for key, value in user_index.items():\n",
    "    if AGE_LOWER <= user_id_age[value] <= AGE_UPPER:\n",
    "        filtered_user_index[key] = value\n",
    "print(len(user_index), len(filtered_user_index))"
   ]
  }
 ],
 "metadata": {
  "kernelspec": {
   "display_name": "venv",
   "language": "python",
   "name": "python3"
  },
  "language_info": {
   "codemirror_mode": {
    "name": "ipython",
    "version": 3
   },
   "file_extension": ".py",
   "mimetype": "text/x-python",
   "name": "python",
   "nbconvert_exporter": "python",
   "pygments_lexer": "ipython3",
   "version": "3.10.14"
  }
 },
 "nbformat": 4,
 "nbformat_minor": 2
}
